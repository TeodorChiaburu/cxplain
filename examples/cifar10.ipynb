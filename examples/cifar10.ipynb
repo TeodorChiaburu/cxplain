{
 "cells": [
  {
   "cell_type": "markdown",
   "source": [
    "## Explaining CIFAR10 Image Classifiers with CXPlain\n",
    "\n",
    "First, we load 5000 sample images from the CIFAR10 dataset which we will use to attempt to recognise the object category\n",
    "that a given image belongs to."
   ],
   "metadata": {
    "collapsed": false
   }
  },
  {
   "cell_type": "code",
   "execution_count": 1,
   "outputs": [],
   "source": [
    "import sys\n",
    "sys.path.append('./cxplain/')"
   ],
   "metadata": {
    "collapsed": false,
    "pycharm": {
     "name": "#%%\n"
    }
   }
  },
  {
   "cell_type": "code",
   "execution_count": 2,
   "outputs": [
    {
     "name": "stdout",
     "output_type": "stream",
     "text": [
      "Downloading data from https://www.cs.toronto.edu/~kriz/cifar-10-python.tar.gz\n",
      "170500096/170498071 [==============================] - 7s 0us/step\n"
     ]
    }
   ],
   "source": [
    "import os\n",
    "os.environ['TF_CPP_MIN_LOG_LEVEL'] = '3'\n",
    "from cxplain.util.test_util import TestUtil\n",
    "\n",
    "num_subsamples = 5000\n",
    "(x_train, y_train), (x_test, y_test) = TestUtil.get_cifar10(flattened=False, num_subsamples=num_subsamples)"
   ],
   "metadata": {
    "collapsed": false,
    "pycharm": {
     "name": "#%%\n"
    }
   }
  },
  {
   "cell_type": "markdown",
   "source": [
    "Next, we fit a multilayer perceptron (MLP) that predicts the object category\n",
    "that a given CIFAR10 image belongs to."
   ],
   "metadata": {
    "collapsed": false
   }
  },
  {
   "cell_type": "code",
   "execution_count": 4,
   "outputs": [
    {
     "name": "stderr",
     "output_type": "stream",
     "text": [
      "/home/tchiaburu/anaconda3/envs/tf1_14_gpu_cxplain/lib/python3.7/site-packages/sklearn/neural_network/_multilayer_perceptron.py:549: ConvergenceWarning: lbfgs failed to converge (status=1):\n",
      "STOP: TOTAL NO. of ITERATIONS REACHED LIMIT.\n",
      "\n",
      "Increase the number of iterations (max_iter) or scale the data as shown in:\n",
      "    https://scikit-learn.org/stable/modules/preprocessing.html\n",
      "  self.n_iter_ = _check_optimize_result(\"lbfgs\", opt_res, self.max_iter)\n"
     ]
    }
   ],
   "source": [
    "from sklearn.neural_network import MLPClassifier\n",
    "\n",
    "explained_model = MLPClassifier(solver='lbfgs', alpha=1e-5,\n",
    "                                hidden_layer_sizes=(64, 32), random_state=1, max_iter=1000)\n",
    "explained_model.fit(x_train.reshape((len(x_train), -1)), y_train);"
   ],
   "metadata": {
    "collapsed": false,
    "pycharm": {
     "name": "#%%\n"
    }
   }
  },
  {
   "cell_type": "markdown",
   "source": [
    "After fitting the multilayer perceptron, we wish to explain its decisions, i.e. what input features were most relevant\n",
    "for a given model prediction. To do so, we train a causal explanation (CXPlain) model that can learn to explain any\n",
    "machine-learning model using the same training data. In practice, we have to define:\n",
    "- `model_builder`: The type of model we want to use as our CXPlain model. In this case we are using a neural explanation model using\n",
    "a UNet structure. \n",
    "- `masking_operation`: The masking operaion used to remove a certain input feature from the set of available input features. In this case we are using zero masking, i.e. setting the value of that input feature to zero.\n",
    "- `loss`: The loss function that we wish to use to measure the impact of removing a certain input feature from the set of available features. In most common use cases, this will be the mean squared error (MSE) for regression problems and the cross-entropy for classification problems.\n"
   ],
   "metadata": {
    "collapsed": false
   }
  },
  {
   "cell_type": "code",
   "execution_count": 5,
   "outputs": [],
   "source": [
    "from tensorflow.python.keras.losses import categorical_crossentropy\n",
    "from cxplain import UNetModelBuilder, ZeroMasking, CXPlain\n",
    "\n",
    "downsample_factors = (2, 2)\n",
    "model_builder = UNetModelBuilder(downsample_factors, num_layers=2, num_units=8, activation=\"relu\",\n",
    "                                 p_dropout=0.0, verbose=0, batch_size=32, learning_rate=0.001)\n",
    "masking_operation = ZeroMasking()\n",
    "loss = categorical_crossentropy"
   ],
   "metadata": {
    "collapsed": false,
    "pycharm": {
     "name": "#%%\n"
    }
   }
  },
  {
   "cell_type": "markdown",
   "source": [
    "Using this configuration, we now instantiate a CXPlain model and fit it to the same training data that we used to fit the MLP model that we wish to explain.\n",
    "We additionally request that 5 bootstrap resampled versions of this model are trained in order to be able to compute confidence intervals for the estimated importance scores.\n",
    "Only a single model is trained - and computation of confidence intervals is not possible - if you do not specify the number of models you wish to train."
   ],
   "metadata": {
    "collapsed": false
   }
  },
  {
   "cell_type": "code",
   "execution_count": 6,
   "outputs": [
    {
     "name": "stdout",
     "output_type": "stream",
     "text": [
      "WARNING:tensorflow:From /home/tchiaburu/anaconda3/envs/tf1_14_gpu_cxplain/lib/python3.7/site-packages/tensorflow_core/python/ops/resource_variable_ops.py:1630: calling BaseResourceVariable.__init__ (from tensorflow.python.ops.resource_variable_ops) with constraint is deprecated and will be removed in a future version.\n",
      "Instructions for updating:\n",
      "If using Keras pass *_constraint arguments to layers.\n",
      "WARNING:tensorflow:From /home/tchiaburu/anaconda3/envs/tf1_14_gpu_cxplain/lib/python3.7/site-packages/tensorflow_core/python/ops/math_grad.py:1424: where (from tensorflow.python.ops.array_ops) is deprecated and will be removed in a future version.\n",
      "Instructions for updating:\n",
      "Use tf.where in 2.0, which has the same broadcast rule as np.where\n"
     ]
    }
   ],
   "source": [
    "explainer = CXPlain(explained_model, model_builder, masking_operation, loss, \n",
    "                    num_models=5, downsample_factors=downsample_factors, flatten_for_explained_model=True)\n",
    "explainer.fit(x_train, y_train);"
   ],
   "metadata": {
    "collapsed": false,
    "pycharm": {
     "name": "#%%\n"
    }
   }
  },
  {
   "cell_type": "markdown",
   "source": [
    "We can then use this fitted CXPlain model to explain the predictions of the explained model on the held-out test samples.\n",
    "We additionally request confidence intervals at the 80% confidence level, i.e. the 10% and 90% quantiles of the observed output distribution of importance scores.\n",
    "Note that the importance scores are normalised to sum to a value of 1 and each score therefore represents the relative importance of each respective input feature."
   ],
   "metadata": {
    "collapsed": false
   }
  },
  {
   "cell_type": "code",
   "execution_count": 7,
   "outputs": [],
   "source": [
    "attributions, confidence = explainer.explain(x_test, confidence_level=0.80)"
   ],
   "metadata": {
    "collapsed": false,
    "pycharm": {
     "name": "#%%\n"
    }
   }
  },
  {
   "cell_type": "markdown",
   "source": [
    "We can now visualise the 2x2 pixel block attributions and their confidence for a specific sample from the test set using the `Plot` toolset available as part of CXPlain."
   ],
   "metadata": {
    "collapsed": false
   }
  },
  {
   "cell_type": "code",
   "execution_count": 9,
   "outputs": [
    {
     "data": {
      "text/plain": "<Figure size 640x480 with 3 Axes>",
      "image/png": "[encoded data removed]"
     },
     "metadata": {},
     "output_type": "display_data"
    },
    {
     "data": {
      "text/plain": "<Figure size 640x480 with 0 Axes>"
     },
     "metadata": {},
     "output_type": "display_data"
    }
   ],
   "source": [
    "import matplotlib.pyplot as plt\n",
    "from cxplain.visualisation.plot import Plot\n",
    "\n",
    "plt.rcdefaults()\n",
    "\n",
    "selected_index = 12\n",
    "selected_sample = x_test[selected_index]\n",
    "importances = attributions[selected_index]\n",
    "importances_confidence = confidence[selected_index]\n",
    "\n",
    "Plot.plot_attribution_2d(selected_sample,\n",
    "                         importances, \n",
    "                         importances_confidence);"
   ],
   "metadata": {
    "collapsed": false,
    "pycharm": {
     "name": "#%%\n"
    }
   }
  },
  {
   "cell_type": "code",
   "execution_count": 10,
   "outputs": [
    {
     "data": {
      "text/plain": "<Figure size 640x480 with 3 Axes>",
      "image/png": "[encoded data removed]"
     },
     "metadata": {},
     "output_type": "display_data"
    },
    {
     "data": {
      "text/plain": "<Figure size 640x480 with 0 Axes>"
     },
     "metadata": {},
     "output_type": "display_data"
    }
   ],
   "source": [
    "selected_index = 13\n",
    "selected_sample = x_test[selected_index]\n",
    "importances = attributions[selected_index]\n",
    "importances_confidence = confidence[selected_index]\n",
    "\n",
    "Plot.plot_attribution_2d(selected_sample,\n",
    "                         importances, \n",
    "                         importances_confidence);"
   ],
   "metadata": {
    "collapsed": false,
    "pycharm": {
     "name": "#%%\n"
    }
   }
  }
 ],
 "metadata": {
  "kernelspec": {
   "name": "cxplain",
   "language": "python",
   "display_name": "cxplain"
  },
  "language_info": {
   "codemirror_mode": {
    "name": "ipython",
    "version": 2
   },
   "file_extension": ".py",
   "mimetype": "text/x-python",
   "name": "python",
   "nbconvert_exporter": "python",
   "pygments_lexer": "ipython2",
   "version": "2.7.6"
  }
 },
 "nbformat": 4,
 "nbformat_minor": 0
}