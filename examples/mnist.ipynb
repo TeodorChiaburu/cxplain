{
 "cells": [
  {
   "cell_type": "markdown",
   "metadata": {
    "collapsed": false,
    "pycharm": {
     "name": "#%% md\n"
    }
   },
   "source": [
    "## Explaining MNIST Image Classifiers with CXPlain\n",
    "\n",
    "First, we load 500 sample images from the MNIST dataset which we will use to attempt to recognise the digit type\n",
    "that a given image shows."
   ]
  },
  {
   "cell_type": "code",
   "metadata": {
    "pycharm": {
     "name": "#%%\n",
     "is_executing": false
    }
   },
   "source": [
    "import os\n",
    "os.environ['TF_CPP_MIN_LOG_LEVEL'] = '3'\n",
    "from cxplain.util.test_util import TestUtil\n",
    "\n",
    "num_subsamples = 500\n",
    "(x_train, y_train), (x_test, y_test) = TestUtil.get_mnist(flattened=False, num_subsamples=num_subsamples)"
   ],
   "execution_count": 1,
   "outputs": []
  },
  {
   "cell_type": "markdown",
   "metadata": {
    "pycharm": {
     "name": "#%% md\n"
    }
   },
   "source": [
    "Next, we fit a multilayer perceptron (MLP) that predicts the digit type that a given MNIST image shows."
   ]
  },
  {
   "cell_type": "code",
   "metadata": {
    "pycharm": {
     "name": "#%%\n",
     "is_executing": false
    }
   },
   "source": [
    "from sklearn.neural_network import MLPClassifier\n",
    "\n",
    "explained_model = MLPClassifier(solver='lbfgs', alpha=1e-5,\n",
    "                                hidden_layer_sizes=(64, 32), random_state=1)\n",
    "explained_model.fit(x_train.reshape((len(x_train), -1)), y_train);"
   ],
   "execution_count": 2,
   "outputs": []
  },
  {
   "cell_type": "markdown",
   "metadata": {
    "pycharm": {
     "name": "#%% md\n"
    }
   },
   "source": [
    "After fitting the multilayer perceptron, we wish to explain its decisions, i.e. what input features were most relevant\n",
    "for a given model prediction. To do so, we train a causal explanation (CXPlain) model that can learn to explain any\n",
    "machine-learning model using the same training data. In practice, we have to define:\n",
    "- `model_builder`: The type of model we want to use as our CXPlain model. In this case we are using a neural explanation model using\n",
    "a UNet structure. \n",
    "- `masking_operation`: The masking operaion used to remove a certain input feature from the set of available input features. In this case we are using zero masking, i.e. setting the value of that input feature to zero.\n",
    "- `loss`: The loss function that we wish to use to measure the impact of removing a certain input feature from the set of available features. In most common use cases, this will be the mean squared error (MSE) for regression problems and the cross-entropy for classification problems.\n"
   ]
  },
  {
   "cell_type": "code",
   "metadata": {
    "pycharm": {
     "name": "#%%\n",
     "is_executing": false
    }
   },
   "source": [
    "from tensorflow.python.keras.losses import categorical_crossentropy\n",
    "from cxplain import UNetModelBuilder, ZeroMasking, CXPlain\n",
    "\n",
    "downsample_factors = (2, 2)\n",
    "model_builder = UNetModelBuilder(downsample_factors, num_layers=2, num_units=8, activation=\"relu\",\n",
    "                                 p_dropout=0.0, verbose=0, batch_size=32, learning_rate=0.001)\n",
    "masking_operation = ZeroMasking()\n",
    "loss = categorical_crossentropy"
   ],
   "execution_count": 3,
   "outputs": []
  },
  {
   "cell_type": "markdown",
   "metadata": {
    "pycharm": {
     "name": "#%% md\n"
    }
   },
   "source": [
    "Using this configuration, we now instantiate a CXPlain model and fit it to the same Boston Housing data that we used to fit the MLP model that we wish to explain.\n",
    "We additionally request that 5 bootstrap resampled versions of this model are trained in order to be able to compute confidence intervals for the estimated importance scores.\n",
    "Only a single model is trained - and computation of confidence intervals is not possible - if you do not specify the number of models you wish to train."
   ]
  },
  {
   "cell_type": "code",
   "metadata": {
    "pycharm": {
     "name": "#%%\n",
     "is_executing": false
    }
   },
   "source": [
    "explainer = CXPlain(explained_model, model_builder, masking_operation, loss, \n",
    "                    num_models=5, downsample_factors=downsample_factors, flatten_for_explained_model=True)\n",
    "explainer.fit(x_train, y_train);"
   ],
   "execution_count": 4,
   "outputs": [
    {
     "name": "stdout",
     "text": [
      "WARNING:tensorflow:From /Users/schwabp3/Documents/projects/venv/lib/python2.7/site-packages/tensorflow/python/ops/init_ops.py:1251: calling __init__ (from tensorflow.python.ops.init_ops) with dtype is deprecated and will be removed in a future version.\nInstructions for updating:\nCall initializer instance with the dtype argument instead of passing it to the constructor\n",
      "WARNING:tensorflow:From /Users/schwabp3/Documents/projects/cxplain-github/cxplain/backend/model_builders/base_model_builder.py:154: The name tf.train.AdamOptimizer is deprecated. Please use tf.compat.v1.train.AdamOptimizer instead.\n\n",
      "WARNING:tensorflow:From /Users/schwabp3/Documents/projects/venv/lib/python2.7/site-packages/tensorflow/python/ops/math_grad.py:1250: where (from tensorflow.python.ops.array_ops) is deprecated and will be removed in a future version.\nInstructions for updating:\nUse tf.where in 2.0, which has the same broadcast rule as np.where\n"
     ],
     "output_type": "stream"
    }
   ]
  },
  {
   "cell_type": "markdown",
   "metadata": {
    "pycharm": {
     "name": "#%% md\n"
    }
   },
   "source": [
    "We can then use this fitted CXPlain model to explain the predictions of the explained model on the held-out test samples.\n",
    "We additionally request confidence intervals at the 80% confidence level, i.e. the 10% and 90% quantiles of the observed output distribution of importance scores.\n",
    "Note that the importance scores are normalised to sum to a value of 1 and each score therefore represents the relative importance of each respective input feature."
   ]
  },
  {
   "cell_type": "code",
   "metadata": {
    "pycharm": {
     "name": "#%%\n",
     "is_executing": false
    }
   },
   "source": [
    "attributions, confidence = explainer.explain(x_test, confidence_level=0.80)"
   ],
   "execution_count": 5,
   "outputs": []
  },
  {
   "cell_type": "markdown",
   "metadata": {
    "pycharm": {
     "name": "#%% md\n"
    }
   },
   "source": [
    "We can now visualise the 2x2 pixel block attributions and their confidence for a specific sample from the test set using the `Plot` toolset available as part of CXPlain."
   ]
  },
  {
   "cell_type": "code",
   "execution_count": 8,
   "metadata": {
    "pycharm": {
     "name": "#%%\n",
     "is_executing": false
    }
   },
   "outputs": [
    {
     "data": {
      "image/png": "[encoded data removed]",
      "text/plain": "<Figure size 640x480 with 3 Axes>"
     },
     "metadata": {},
     "output_type": "display_data"
    },
    {
     "data": {
      "text/plain": "<Figure size 640x480 with 0 Axes>"
     },
     "metadata": {},
     "output_type": "display_data"
    }
   ],
   "source": [
    "import numpy as np\n",
    "import matplotlib.pyplot as plt\n",
    "from cxplain.visualisation.plot import Plot\n",
    "\n",
    "plt.rcdefaults()\n",
    "\n",
    "selected_index = 2\n",
    "selected_sample = x_test[selected_index]\n",
    "importances = attributions[selected_index]\n",
    "importances_confidence = confidence[selected_index]\n",
    "\n",
    "Plot.plot_attribution_2d(selected_sample,\n",
    "                         importances, \n",
    "                         importances_confidence)"
   ]
  },
  {
   "cell_type": "code",
   "execution_count": 13,
   "outputs": [
    {
     "data": {
      "image/png": "[encoded data removed]",
      "text/plain": "<Figure size 640x480 with 3 Axes>"
     },
     "metadata": {},
     "output_type": "display_data"
    },
    {
     "data": {
      "text/plain": "<Figure size 640x480 with 0 Axes>"
     },
     "metadata": {},
     "output_type": "display_data"
    }
   ],
   "source": [
    "selected_index = 3\n",
    "selected_sample = x_test[selected_index]\n",
    "importances = attributions[selected_index]\n",
    "importances_confidence = confidence[selected_index]\n",
    "\n",
    "Plot.plot_attribution_2d(selected_sample,\n",
    "                         importances, \n",
    "                         importances_confidence)\n",
    "\n"
   ],
   "metadata": {
    "collapsed": false,
    "pycharm": {
     "name": "#%%\n",
     "is_executing": false
    }
   }
  }
 ],
 "metadata": {
  "kernelspec": {
   "display_name": "Python 2",
   "language": "python",
   "name": "python2"
  },
  "language_info": {
   "codemirror_mode": {
    "name": "ipython",
    "version": 2
   },
   "file_extension": ".py",
   "mimetype": "text/x-python",
   "name": "python",
   "nbconvert_exporter": "python",
   "pygments_lexer": "ipython2",
   "version": "2.7.6"
  },
  "pycharm": {
   "stem_cell": {
    "cell_type": "raw",
    "source": [],
    "metadata": {
     "collapsed": false
    }
   }
  }
 },
 "nbformat": 4,
 "nbformat_minor": 0
}